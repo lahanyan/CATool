{
  "nbformat": 4,
  "nbformat_minor": 0,
  "metadata": {
    "colab": {
      "name": "Marketing",
      "provenance": [],
      "collapsed_sections": []
    },
    "kernelspec": {
      "display_name": "Python 3",
      "name": "python3"
    }
  },
  "cells": [
    {
      "cell_type": "code",
      "metadata": {
        "colab": {
          "base_uri": "https://localhost:8080/"
        },
        "id": "nPYAPn1F9lKV",
        "outputId": "0538418d-a6c2-4800-f376-fcea73bb545f"
      },
      "source": [
        "import pandas as pd \n",
        "import numpy as np \n",
        "import statsmodels.api as sm\n",
        "import statsmodels.formula.api as smf\n",
        "import statsmodels.api as sm\n",
        "from sklearn import preprocessing\n",
        "import matplotlib.pyplot as plt\n",
        "\n",
        "# data = pd.DataFrame()\n",
        "# #read the input csv \n",
        "# rank_data = pd.read_csv(\"../sample.csv\")\n",
        "# data  = rank_data\n",
        "# rank_data[['gear','type','susp','guards']] = rank_data['Attribute'].str.split(',',expand=True)\n",
        "# rank_data = rank_data.drop(columns=['Attribute'])\n",
        "# rank_data"
      ],
      "execution_count": 1,
      "outputs": [
        {
          "output_type": "stream",
          "name": "stderr",
          "text": [
            "/usr/local/lib/python3.7/dist-packages/statsmodels/tools/_testing.py:19: FutureWarning: pandas.util.testing is deprecated. Use the functions in the public API at pandas.testing instead.\n",
            "  import pandas.util.testing as tm\n"
          ]
        }
      ]
    },
    {
      "cell_type": "code",
      "metadata": {
        "id": "MQOfJ3jS9nFA"
      },
      "source": [
        "# conjoint_data = pd.get_dummies(rank_data,columns =['gear','type','susp','guards'])\n",
        "# conjoint_data"
      ],
      "execution_count": null,
      "outputs": []
    },
    {
      "cell_type": "code",
      "metadata": {
        "id": "OqbfbZn1-kbV"
      },
      "source": [
        "# #renaming columns of dataframe\n",
        "# fullNames = {\"Rank\":\"Rank\", \\\n",
        "#            \"gear_Has gears\": \"geared\",\"gear_No gears\": \"fixedgear\",\"type_ Mountain bike\": \"Mountain bike\", \\\n",
        "#           \"type_ Racing bike\": \"Road Bike\", \"susp_ No Suspension\":\"Hardtail\",  \"susp_ Suspension\":\"Softtail\", \\\n",
        "#            \"guards_ Mudguards\":\"Mudguarded\", \"guards_ No mudguards\":\"openmudguard\"\n",
        "#           }\n",
        "\n",
        "# conjoint_data.rename(columns=fullNames, inplace=True)"
      ],
      "execution_count": null,
      "outputs": []
    },
    {
      "cell_type": "code",
      "metadata": {
        "id": "kNmgYe8U-kls"
      },
      "source": [
        "X = conjoint_data[[ u'geared', u'fixedgear', u'Mountain bike', u'Road Bike',\n",
        "       u'Hardtail', u'Softtail', u'Mudguarded', u'openmudguard']]\n",
        "X = sm.add_constant(X)\n",
        "Y = conjoint_data.Rank\n",
        "linearRegression = sm.OLS(Y, X).fit()\n",
        "linearRegression.summary()"
      ],
      "execution_count": null,
      "outputs": []
    },
    {
      "cell_type": "code",
      "metadata": {
        "id": "TxR3w819-uzL"
      },
      "source": [
        "﻿conjoint_attributes = [u'geared', u'fixedgear', u'Mountain bike', u'Road Bike',\n",
        "       u'Hardtail', u'Softtail', u'Mudguarded', u'openmudguard']\n",
        "level_name = []\n",
        "part_worth = []\n",
        "part_worth_range = []\n",
        "end = 1\n",
        "for item in conjoint_attributes:\n",
        "    nlevels = len(list(set(conjoint_data[item])))\n",
        "    level_name.append(list(set(conjoint_data[item])))\n",
        "    begin = end\n",
        "    end = begin + nlevels - 1\n",
        "    new_part_worth = list(linearRegression.params[begin:end])\n",
        "    new_part_worth.append((-1) * sum(new_part_worth))\n",
        "    part_worth_range.append(max(new_part_worth) - min(new_part_worth))\n",
        "    part_worth.append(new_part_worth)\n",
        "    # end set to begin next iteration\n",
        "\n",
        "attribute_importance = []\n",
        "for item in part_worth_range:\n",
        "    attribute_importance.append(round(100 * (item / sum(part_worth_range)),2))\n",
        "\n",
        "\n",
        "effect_name_dict = {u'geared':u'geared', u'fixedgear':u'fixedgear', u'Mountain bike':u'Mountain bike', u'Road Bike':u'Road Bike',\n",
        "       u'Hardtail':u'Hardtail', u'Softtail':u'Softtail', u'Mudguarded':u'Mudguarded', u'openmudguard':u'openmudguard'}\n",
        "\n",
        "\n",
        "#print out parthworth's for each level\n",
        "estimates_of_choice = []\n",
        "index = 0 \n",
        "for item in conjoint_attributes : \n",
        "    print (\"\\n Attribute : \" , effect_name_dict[item])\n",
        "    print (\"\\n Importance : \" , attribute_importance[index])\n",
        "    print('    Level Part-Worths')\n",
        "    for level in range(len(level_name[index])):\n",
        "        print('       ',level_name[index][level], part_worth[index][level])\n",
        "    index = index + 1\n",
        "\n"
      ],
      "execution_count": null,
      "outputs": []
    },
    {
      "cell_type": "code",
      "metadata": {
        "id": "_MGZmvO3-0pE"
      },
      "source": [
        "#calculating Utilities\n",
        "flattened_list = [val for sublist in utility for val in sublist]\n",
        "y = pd.Series(flattened_list)\n",
        "df2=conjoint_data[[ u'geared', u'fixedgear', u'Mountain bike', u'Road Bike',\n",
        "       u'Hardtail', u'Softtail', u'Mudguarded', u'openmudguard']]\n",
        "df2 = df2.astype(float)\n",
        "i=0\n",
        "for item in conjoint_attributes:\n",
        "    df2[item]= df2[item]*flattened_list[i]\n",
        "    i=i+1\n",
        "df2"
      ],
      "execution_count": null,
      "outputs": []
    },
    {
      "cell_type": "code",
      "metadata": {
        "id": "ebJO_hqW-1QA"
      },
      "source": [
        "utility_scores = df2.values.sum(axis=1)\n",
        "max_utility = np.argmax(utility_scores)\n",
        "print \"The index of combination combination with hightest sum of utility scores is \" \n",
        "print data.ix[max_utility]\n"
      ],
      "execution_count": null,
      "outputs": []
    },
    {
      "cell_type": "code",
      "metadata": {
        "id": "FSHOX9t8-8TK"
      },
      "source": [
        "total_utility=0\n",
        "c= 0.833\n",
        "for item in utility_scores:\n",
        "    total_utility = total_utility + np.exp(c*item)\n",
        "\n",
        "for item in utility_scores:\n",
        "    probabilty = np.exp(c*item)/total_utility\n",
        "    itemindex = np.where(utility_scores==item)\n",
        "\n",
        "    print 'Market share of profile %s is %s ' % (itemindex,probabilty*100)"
      ],
      "execution_count": null,
      "outputs": []
    },
    {
      "cell_type": "code",
      "metadata": {
        "id": "YfafFgir--7G"
      },
      "source": [
        ""
      ],
      "execution_count": null,
      "outputs": []
    }
  ]
}