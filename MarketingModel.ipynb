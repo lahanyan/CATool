{
 "cells": [
  {
   "cell_type": "code",
   "execution_count": 1,
   "id": "05eac981-8349-4b72-8f56-1c3679519765",
   "metadata": {},
   "outputs": [],
   "source": [
    "import pandas as pd\n",
    "import numpy as np"
   ]
  },
  {
   "cell_type": "code",
   "execution_count": null,
   "id": "e7b09f1a-ae46-44c9-b4af-2ce9936d3abe",
   "metadata": {},
   "outputs": [],
   "source": [
    "#here we will hve the dataset to train our model"
   ]
  },
  {
   "cell_type": "code",
   "execution_count": null,
   "id": "5da81f34-410c-4146-b4da-e3f877898d00",
   "metadata": {},
   "outputs": [],
   "source": [
    "# we need to assemble the survey questions per attribute for every level of that attribute in dicionary and have something like this\n",
    "range_per_feature = dict()\n",
    "for key, coeff in res.params.items():\n",
    "    sk =  key.split('_')\n",
    "    feature = sk[0]\n",
    "    if len(sk) == 1:\n",
    "        feature = key\n",
    "    if feature not in range_per_feature:\n",
    "        range_per_feature[feature] = list()\n",
    "        \n",
    "    range_per_feature[feature].append(coeff)"
   ]
  },
  {
   "cell_type": "code",
   "execution_count": null,
   "id": "77061b60-cfde-48e9-86b9-751c09542996",
   "metadata": {},
   "outputs": [],
   "source": [
    "# then we should define the importance per feature is range of coef in a feature\n",
    "\n",
    "importance_per_feature = {\n",
    "    k: max(v) - min(v) for k, v in range_per_feature.items()\n",
    "}\n"
   ]
  },
  {
   "cell_type": "code",
   "execution_count": null,
   "id": "71c26931-2dd7-4b9a-98e4-9d6235514db9",
   "metadata": {},
   "outputs": [],
   "source": [
    "\n",
    "# then compute relative importance per feature\n",
    "total_feature_importance = sum(importance_per_feature.values())\n",
    "relative_importance_per_feature = {\n",
    "    k: 100 * round(v/total_feature_importance, 3) for k, v in importance_per_feature.items()\n",
    "}\n"
   ]
  },
  {
   "cell_type": "code",
   "execution_count": null,
   "id": "4a7b6a78-c8c9-4ac0-8c35-bcaa1b3e1546",
   "metadata": {},
   "outputs": [],
   "source": [
    "#after doing this, the code will understand what questions are at what importance and our code will give \n",
    "# other questiosn to the user based on previous answer"
   ]
  }
 ],
 "metadata": {
  "kernelspec": {
   "display_name": "Python 3 (ipykernel)",
   "language": "python",
   "name": "python3"
  },
  "language_info": {
   "codemirror_mode": {
    "name": "ipython",
    "version": 3
   },
   "file_extension": ".py",
   "mimetype": "text/x-python",
   "name": "python",
   "nbconvert_exporter": "python",
   "pygments_lexer": "ipython3",
   "version": "3.8.8"
  }
 },
 "nbformat": 4,
 "nbformat_minor": 5
}
