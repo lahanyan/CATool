{
 "cells": [
  {
   "cell_type": "code",
   "execution_count": 3,
   "id": "2814f06a",
   "metadata": {},
   "outputs": [],
   "source": [
    "import pandas as pd\n",
    "from itertools import product\n",
    "\n",
    "def expand_grid(dictionary):\n",
    "   return pd.DataFrame([row for row in product(*dictionary.values())], \n",
    "                       columns=dictionary.keys())"
   ]
  },
  {
   "cell_type": "code",
   "execution_count": 3,
   "id": "37a2fa77",
   "metadata": {},
   "outputs": [],
   "source": [
    "\n",
    "dictionary = {'Brand': [\"hp\", \"dell\", \"acer\", \"asus\", \"lenovo\", \"razer\", \"microsoft\"], \n",
    "              'Ram': [\"2GB\", \"4GB\", \"8GB\", \"12GB\", \"16GB\", \"32GB\"], \n",
    "              'Core': [\"2core\", \"4core\", \"6core\", \"8core\", \"10core\", \"12core\", \"14core\"],\n",
    "              'Clockspeed':[\"1.2GHz\", \"1,4GHz\", \"1.6GHz\", \"2.2GHz\", \"2.4GHz\", \"2.6GHz\", \"3.5GHz\"],\n",
    "              'Screen': [\"10in\", \"13in\", \"14in\", \"16in\"],\n",
    "              'Price': [\"AMD100000\", \"AMD140000\", \"AMD180000\", \"AMD220000\", \"AMD260000\"],\n",
    "              'Batterylife':[\"8hr\", \"10hr\", \"13hr\", \"16hr\", \"18hr\", \"20hr\", \"22hr\", \"24hr\"],\n",
    "              'Color': [\"black\", \"white\", \"gold\", \"rosegold\", \"silver\", \"blackgold\", \"blackrosegold\", \"grey\"],\n",
    "              'sensors': [\"touchpad\", \"touchscreen\", \"none\"],\n",
    "              'country': [\"USA\", \"Japan\", \"China\", \"Korea\", \"Germany\", \"Austria\", \"Russia\"]}\n"
   ]
  },
  {
   "cell_type": "code",
   "execution_count": 14,
   "id": "ef2ea994",
   "metadata": {},
   "outputs": [],
   "source": [
    "dictionary_small = {'Brand': [\"hp\", \"dell\", \"acer\"], \n",
    "                  'Ram': [\"4GB\", \"8GB\", \"12GB\"], \n",
    "                  'Core': [\"6core\", \"8core\", \"10core\"],\n",
    "                  'Clockspeed':[\"1.2GHz\", \"2.4GHz\", \"2.6GHz\"],\n",
    "                  'Price': [\"AMD100000\", \"AMD140000\", \"AMD180000\"]}\n",
    "\n"
   ]
  },
  {
   "cell_type": "code",
   "execution_count": 15,
   "id": "d8080a05",
   "metadata": {},
   "outputs": [],
   "source": [
    "dict_ = expand_grid(dictionary_small)"
   ]
  },
  {
   "cell_type": "code",
   "execution_count": 16,
   "id": "bc65b32d",
   "metadata": {},
   "outputs": [],
   "source": [
    "dict_.reset_index(drop=True, inplace=True)"
   ]
  },
  {
   "cell_type": "code",
   "execution_count": 17,
   "id": "5aea5c27",
   "metadata": {},
   "outputs": [],
   "source": [
    "dict_.to_csv(\"computers_expanded_small.csv\", index = False)"
   ]
  },
  {
   "cell_type": "code",
   "execution_count": 18,
   "id": "2d26c905",
   "metadata": {},
   "outputs": [
    {
     "data": {
      "text/html": [
       "<div>\n",
       "<style scoped>\n",
       "    .dataframe tbody tr th:only-of-type {\n",
       "        vertical-align: middle;\n",
       "    }\n",
       "\n",
       "    .dataframe tbody tr th {\n",
       "        vertical-align: top;\n",
       "    }\n",
       "\n",
       "    .dataframe thead th {\n",
       "        text-align: right;\n",
       "    }\n",
       "</style>\n",
       "<table border=\"1\" class=\"dataframe\">\n",
       "  <thead>\n",
       "    <tr style=\"text-align: right;\">\n",
       "      <th></th>\n",
       "      <th>Brand</th>\n",
       "      <th>Ram</th>\n",
       "      <th>Core</th>\n",
       "      <th>Clockspeed</th>\n",
       "      <th>Price</th>\n",
       "    </tr>\n",
       "  </thead>\n",
       "  <tbody>\n",
       "    <tr>\n",
       "      <th>0</th>\n",
       "      <td>hp</td>\n",
       "      <td>4GB</td>\n",
       "      <td>6core</td>\n",
       "      <td>1.2GHz</td>\n",
       "      <td>AMD100000</td>\n",
       "    </tr>\n",
       "    <tr>\n",
       "      <th>1</th>\n",
       "      <td>hp</td>\n",
       "      <td>4GB</td>\n",
       "      <td>6core</td>\n",
       "      <td>1.2GHz</td>\n",
       "      <td>AMD140000</td>\n",
       "    </tr>\n",
       "    <tr>\n",
       "      <th>2</th>\n",
       "      <td>hp</td>\n",
       "      <td>4GB</td>\n",
       "      <td>6core</td>\n",
       "      <td>1.2GHz</td>\n",
       "      <td>AMD180000</td>\n",
       "    </tr>\n",
       "    <tr>\n",
       "      <th>3</th>\n",
       "      <td>hp</td>\n",
       "      <td>4GB</td>\n",
       "      <td>6core</td>\n",
       "      <td>2.4GHz</td>\n",
       "      <td>AMD100000</td>\n",
       "    </tr>\n",
       "    <tr>\n",
       "      <th>4</th>\n",
       "      <td>hp</td>\n",
       "      <td>4GB</td>\n",
       "      <td>6core</td>\n",
       "      <td>2.4GHz</td>\n",
       "      <td>AMD140000</td>\n",
       "    </tr>\n",
       "  </tbody>\n",
       "</table>\n",
       "</div>"
      ],
      "text/plain": [
       "  Brand  Ram   Core Clockspeed      Price\n",
       "0    hp  4GB  6core     1.2GHz  AMD100000\n",
       "1    hp  4GB  6core     1.2GHz  AMD140000\n",
       "2    hp  4GB  6core     1.2GHz  AMD180000\n",
       "3    hp  4GB  6core     2.4GHz  AMD100000\n",
       "4    hp  4GB  6core     2.4GHz  AMD140000"
      ]
     },
     "execution_count": 18,
     "metadata": {},
     "output_type": "execute_result"
    }
   ],
   "source": [
    "dict_.head()"
   ]
  },
  {
   "cell_type": "code",
   "execution_count": null,
   "id": "94516a3a",
   "metadata": {},
   "outputs": [],
   "source": []
  }
 ],
 "metadata": {
  "kernelspec": {
   "display_name": "Python 3",
   "language": "python",
   "name": "python3"
  },
  "language_info": {
   "codemirror_mode": {
    "name": "ipython",
    "version": 3
   },
   "file_extension": ".py",
   "mimetype": "text/x-python",
   "name": "python",
   "nbconvert_exporter": "python",
   "pygments_lexer": "ipython3",
   "version": "3.8.8"
  }
 },
 "nbformat": 4,
 "nbformat_minor": 5
}
